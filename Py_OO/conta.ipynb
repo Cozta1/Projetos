{
 "cells": [
  {
   "cell_type": "code",
   "execution_count": 31,
   "metadata": {},
   "outputs": [],
   "source": [
    "class Conta:\n",
    "    \n",
    "    def __init__(self, numero, titular, saldo, limite):\n",
    "        print(f'Construindo objeto... {self}')\n",
    "        self.__numero = numero\n",
    "        self.__titular = titular\n",
    "        self.__saldo =  saldo\n",
    "        self.__limite = limite\n",
    "        \n",
    "    def extrato(self):\n",
    "        print(f'Saldo de {self.__saldo} da conta de titular {self.__titular}')\n",
    "        \n",
    "    def deposito(self, valor):\n",
    "        self.__saldo += valor\n",
    "        \n",
    "    def saque(self, valor):\n",
    "        self.__saldo -= valor\n",
    "        \n",
    "    def tansfere(self, valor, origem, destino):\n",
    "        origem.saque(valor)\n",
    "        destino.deposito(valor)"
   ]
  },
  {
   "cell_type": "code",
   "execution_count": 32,
   "metadata": {},
   "outputs": [
    {
     "name": "stdout",
     "output_type": "stream",
     "text": [
      "Construindo objeto... <conta.Conta object at 0x000002CF05D69090>\n",
      "Construindo objeto... <conta.Conta object at 0x000002CF05DDF710>\n"
     ]
    }
   ],
   "source": [
    "from conta import Conta\n",
    "\n",
    "conta = Conta(141, 'Cozta', 55.0, 1000.0)\n",
    "conta2 = Conta(155, 'abc', 100.0, 1000.0)\n",
    "\n",
    "valor = 10"
   ]
  },
  {
   "cell_type": "code",
   "execution_count": 34,
   "metadata": {},
   "outputs": [
    {
     "ename": "AttributeError",
     "evalue": "'Conta' object has no attribute 'saca'",
     "output_type": "error",
     "traceback": [
      "\u001b[1;31m---------------------------------------------------------------------------\u001b[0m",
      "\u001b[1;31mAttributeError\u001b[0m                            Traceback (most recent call last)",
      "\u001b[1;32mc:\\Users\\zkozt\\Projetos\\Projetos\\Py_OO\\conta.ipynb Cell 3\u001b[0m line \u001b[0;36m1\n\u001b[1;32m----> <a href='vscode-notebook-cell:/c%3A/Users/zkozt/Projetos/Projetos/Py_OO/conta.ipynb#W2sZmlsZQ%3D%3D?line=0'>1</a>\u001b[0m conta\u001b[39m.\u001b[39;49msaca(valor, conta2, conta)\n",
      "\u001b[1;31mAttributeError\u001b[0m: 'Conta' object has no attribute 'saca'"
     ]
    }
   ],
   "source": [
    "conta2.saca(valor, conta2, conta)"
   ]
  }
 ],
 "metadata": {
  "kernelspec": {
   "display_name": "Python 3",
   "language": "python",
   "name": "python3"
  },
  "language_info": {
   "codemirror_mode": {
    "name": "ipython",
    "version": 3
   },
   "file_extension": ".py",
   "mimetype": "text/x-python",
   "name": "python",
   "nbconvert_exporter": "python",
   "pygments_lexer": "ipython3",
   "version": "3.11.0"
  },
  "orig_nbformat": 4
 },
 "nbformat": 4,
 "nbformat_minor": 2
}
